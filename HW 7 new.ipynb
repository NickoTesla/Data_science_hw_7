{
  "nbformat": 4,
  "nbformat_minor": 0,
  "metadata": {
    "colab": {
      "provenance": []
    },
    "kernelspec": {
      "name": "python3",
      "display_name": "Python 3"
    },
    "language_info": {
      "name": "python"
    }
  },
  "cells": [
    {
      "cell_type": "code",
      "execution_count": null,
      "metadata": {
        "colab": {
          "base_uri": "https://localhost:8080/"
        },
        "id": "xFXIfB5ypy6g",
        "outputId": "23327323-3367-4086-ef53-cb0795f22a15"
      },
      "outputs": [
        {
          "output_type": "stream",
          "name": "stdout",
          "text": [
            "Collecting scikit-surprise\n",
            "  Downloading scikit-surprise-1.1.3.tar.gz (771 kB)\n",
            "\u001b[2K     \u001b[90m━━━━━━━━━━━━━━━━━━━━━━━━━━━━━━━━━━━━━━━━\u001b[0m \u001b[32m772.0/772.0 kB\u001b[0m \u001b[31m13.3 MB/s\u001b[0m eta \u001b[36m0:00:00\u001b[0m\n",
            "\u001b[?25h  Preparing metadata (setup.py) ... \u001b[?25l\u001b[?25hdone\n",
            "Requirement already satisfied: joblib>=1.0.0 in /usr/local/lib/python3.10/dist-packages (from scikit-surprise) (1.3.2)\n",
            "Requirement already satisfied: numpy>=1.17.3 in /usr/local/lib/python3.10/dist-packages (from scikit-surprise) (1.23.5)\n",
            "Requirement already satisfied: scipy>=1.3.2 in /usr/local/lib/python3.10/dist-packages (from scikit-surprise) (1.11.4)\n",
            "Building wheels for collected packages: scikit-surprise\n",
            "  Building wheel for scikit-surprise (setup.py) ... \u001b[?25l\u001b[?25hdone\n",
            "  Created wheel for scikit-surprise: filename=scikit_surprise-1.1.3-cp310-cp310-linux_x86_64.whl size=3163744 sha256=738a5ecefa374284cdc65f2684036df52635693b1c0570053f21a757c11bf26c\n",
            "  Stored in directory: /root/.cache/pip/wheels/a5/ca/a8/4e28def53797fdc4363ca4af740db15a9c2f1595ebc51fb445\n",
            "Successfully built scikit-surprise\n",
            "Installing collected packages: scikit-surprise\n",
            "Successfully installed scikit-surprise-1.1.3\n"
          ]
        }
      ],
      "source": [
        "pip install scikit-surprise"
      ]
    },
    {
      "cell_type": "code",
      "source": [
        "from surprise import Dataset, Reader\n",
        "from surprise.model_selection import GridSearchCV\n",
        "from surprise import SVD, SVDpp, NMF"
      ],
      "metadata": {
        "id": "F8I4teNzqbEf"
      },
      "execution_count": null,
      "outputs": []
    },
    {
      "cell_type": "code",
      "source": [
        "data = Dataset.load_builtin('ml-100k')"
      ],
      "metadata": {
        "colab": {
          "base_uri": "https://localhost:8080/"
        },
        "id": "to2M4L1GqyTV",
        "outputId": "8153e13b-2860-417f-9f35-c34d9f79c232"
      },
      "execution_count": null,
      "outputs": [
        {
          "output_type": "stream",
          "name": "stdout",
          "text": [
            "Dataset ml-100k could not be found. Do you want to download it? [Y/n] Y\n",
            "Trying to download dataset from https://files.grouplens.org/datasets/movielens/ml-100k.zip...\n",
            "Done! Dataset ml-100k has been saved to /root/.surprise_data/ml-100k\n"
          ]
        }
      ]
    },
    {
      "cell_type": "code",
      "source": [
        "param_grid_svd = {'n_factors': [5, 10, 15, 20], 'reg_all': [0.02, 0.05, 0.1, 0.2]}\n",
        "param_grid_svdpp = {'n_factors': [5, 10, 15, 20], 'reg_all': [0.02, 0.05, 0.1, 0.2]}\n",
        "param_grid_nmf = {'n_factors': [5, 10, 15, 20], 'reg_pu': [0.02, 0.05, 0.1, 0.2], 'reg_qi': [0.02, 0.05, 0.1, 0.2]}\n"
      ],
      "metadata": {
        "id": "py1_8HEkrudP"
      },
      "execution_count": null,
      "outputs": []
    },
    {
      "cell_type": "code",
      "source": [
        "algorithms = [\n",
        "    (SVD, param_grid_svd),\n",
        "    (SVDpp, param_grid_svdpp),\n",
        "    (NMF, param_grid_nmf)\n",
        "]"
      ],
      "metadata": {
        "id": "tZ4Os0pdr1Ga"
      },
      "execution_count": null,
      "outputs": []
    },
    {
      "cell_type": "code",
      "source": [
        "for algorithm, param_grid in algorithms:\n",
        "    print(f\"Algorithm: {algorithm.__name__}\")\n",
        "\n",
        "\n",
        "    grid_search = GridSearchCV(algorithm, param_grid, measures=['RMSE'], cv=3)\n",
        "\n",
        "\n",
        "    grid_search.fit(data)\n",
        "\n",
        "\n",
        "    print(f\"Best Parameters: {grid_search.best_params['rmse']}\")\n",
        "    print(f\"Best RMSE: {grid_search.best_score['rmse']}\")\n",
        "    print(\"\\n\")"
      ],
      "metadata": {
        "colab": {
          "base_uri": "https://localhost:8080/"
        },
        "id": "MtfNHBtur5LV",
        "outputId": "06a71a2c-d706-48dd-99f5-12caafeff058"
      },
      "execution_count": null,
      "outputs": [
        {
          "output_type": "stream",
          "name": "stdout",
          "text": [
            "Algorithm: SVD\n",
            "Best Parameters: {'n_factors': 20, 'reg_all': 0.02}\n",
            "Best RMSE: 0.9417838509612247\n",
            "\n",
            "\n",
            "Algorithm: SVDpp\n",
            "Best Parameters: {'n_factors': 5, 'reg_all': 0.02}\n",
            "Best RMSE: 0.9250174537195779\n",
            "\n",
            "\n",
            "Algorithm: NMF\n",
            "Best Parameters: {'n_factors': 20, 'reg_pu': 0.2, 'reg_qi': 0.05}\n",
            "Best RMSE: 0.955854056337298\n",
            "\n",
            "\n"
          ]
        }
      ]
    },
    {
      "cell_type": "code",
      "source": [
        "best_algorithm = grid_search.best_estimator['rmse']"
      ],
      "metadata": {
        "id": "ld-XQzk4tru7"
      },
      "execution_count": null,
      "outputs": []
    },
    {
      "cell_type": "code",
      "source": [
        "best_algorithm = grid_search.best_estimator['rmse']\n",
        "print(f\"Best Algorithm Selected: {best_algorithm.__class__.__name__}\")\n",
        "\n",
        "trainset = data.build_full_trainset()\n",
        "best_algorithm.fit(trainset)"
      ],
      "metadata": {
        "colab": {
          "base_uri": "https://localhost:8080/"
        },
        "id": "zqAyfVoSdgps",
        "outputId": "511f1df4-a4e5-4791-c521-f8132f35d4b3"
      },
      "execution_count": null,
      "outputs": [
        {
          "output_type": "stream",
          "name": "stdout",
          "text": [
            "Best Algorithm Selected: NMF\n"
          ]
        },
        {
          "output_type": "execute_result",
          "data": {
            "text/plain": [
              "<surprise.prediction_algorithms.matrix_factorization.NMF at 0x7b681970d5a0>"
            ]
          },
          "metadata": {},
          "execution_count": 10
        }
      ]
    },
    {
      "cell_type": "code",
      "source": [
        "trainset = data.build_full_trainset()\n",
        "best_algorithm.fit(trainset)"
      ],
      "metadata": {
        "colab": {
          "base_uri": "https://localhost:8080/"
        },
        "id": "JIqqgHLJw2e0",
        "outputId": "b7434e6a-48f2-459d-dfe4-1f6775e42fca"
      },
      "execution_count": null,
      "outputs": [
        {
          "output_type": "execute_result",
          "data": {
            "text/plain": [
              "<surprise.prediction_algorithms.matrix_factorization.NMF at 0x7b681970d5a0>"
            ]
          },
          "metadata": {},
          "execution_count": 9
        }
      ]
    }
  ]
}