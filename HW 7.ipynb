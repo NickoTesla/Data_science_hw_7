{
  "nbformat": 4,
  "nbformat_minor": 0,
  "metadata": {
    "colab": {
      "provenance": []
    },
    "kernelspec": {
      "name": "python3",
      "display_name": "Python 3"
    },
    "language_info": {
      "name": "python"
    }
  },
  "cells": [
    {
      "cell_type": "code",
      "execution_count": 1,
      "metadata": {
        "colab": {
          "base_uri": "https://localhost:8080/"
        },
        "id": "xFXIfB5ypy6g",
        "outputId": "fdf5c314-f896-41d5-ac67-a7d40b021fa5"
      },
      "outputs": [
        {
          "output_type": "stream",
          "name": "stdout",
          "text": [
            "Collecting scikit-surprise\n",
            "  Downloading scikit-surprise-1.1.3.tar.gz (771 kB)\n",
            "\u001b[?25l     \u001b[90m━━━━━━━━━━━━━━━━━━━━━━━━━━━━━━━━━━━━━━━━\u001b[0m \u001b[32m0.0/772.0 kB\u001b[0m \u001b[31m?\u001b[0m eta \u001b[36m-:--:--\u001b[0m\r\u001b[2K     \u001b[91m━━━━━━━\u001b[0m\u001b[90m╺\u001b[0m\u001b[90m━━━━━━━━━━━━━━━━━━━━━━━━━━━━━━━━\u001b[0m \u001b[32m143.4/772.0 kB\u001b[0m \u001b[31m4.1 MB/s\u001b[0m eta \u001b[36m0:00:01\u001b[0m\r\u001b[2K     \u001b[90m━━━━━━━━━━━━━━━━━━━━━━━━━━━━━━━━━━━━━━━━\u001b[0m \u001b[32m772.0/772.0 kB\u001b[0m \u001b[31m11.0 MB/s\u001b[0m eta \u001b[36m0:00:00\u001b[0m\n",
            "\u001b[?25h  Preparing metadata (setup.py) ... \u001b[?25l\u001b[?25hdone\n",
            "Requirement already satisfied: joblib>=1.0.0 in /usr/local/lib/python3.10/dist-packages (from scikit-surprise) (1.3.2)\n",
            "Requirement already satisfied: numpy>=1.17.3 in /usr/local/lib/python3.10/dist-packages (from scikit-surprise) (1.23.5)\n",
            "Requirement already satisfied: scipy>=1.3.2 in /usr/local/lib/python3.10/dist-packages (from scikit-surprise) (1.11.4)\n",
            "Building wheels for collected packages: scikit-surprise\n",
            "  Building wheel for scikit-surprise (setup.py) ... \u001b[?25l\u001b[?25hdone\n",
            "  Created wheel for scikit-surprise: filename=scikit_surprise-1.1.3-cp310-cp310-linux_x86_64.whl size=3163748 sha256=68655a9e0aff305151d7312f1ae77213b85e6862b439eea65b4b323e3d749f78\n",
            "  Stored in directory: /root/.cache/pip/wheels/a5/ca/a8/4e28def53797fdc4363ca4af740db15a9c2f1595ebc51fb445\n",
            "Successfully built scikit-surprise\n",
            "Installing collected packages: scikit-surprise\n",
            "Successfully installed scikit-surprise-1.1.3\n"
          ]
        }
      ],
      "source": [
        "pip install scikit-surprise"
      ]
    },
    {
      "cell_type": "code",
      "source": [
        "from surprise import Dataset, Reader\n",
        "from surprise.model_selection import GridSearchCV\n",
        "from surprise import SVD, SVDpp, NMF"
      ],
      "metadata": {
        "id": "F8I4teNzqbEf"
      },
      "execution_count": 2,
      "outputs": []
    },
    {
      "cell_type": "code",
      "source": [
        "data = Dataset.load_builtin('ml-100k')"
      ],
      "metadata": {
        "id": "to2M4L1GqyTV"
      },
      "execution_count": 6,
      "outputs": []
    },
    {
      "cell_type": "code",
      "source": [
        "param_grid_svd = {'n_factors': [5, 10, 15, 20], 'reg_all': [0.02, 0.05, 0.1, 0.2]}\n",
        "param_grid_svdpp = {'n_factors': [5, 10, 15, 20], 'reg_all': [0.02, 0.05, 0.1, 0.2]}\n",
        "param_grid_nmf = {'n_factors': [5, 10, 15, 20], 'reg_pu': [0.02, 0.05, 0.1, 0.2], 'reg_qi': [0.02, 0.05, 0.1, 0.2]}\n"
      ],
      "metadata": {
        "id": "py1_8HEkrudP"
      },
      "execution_count": 18,
      "outputs": []
    },
    {
      "cell_type": "code",
      "source": [
        "algorithms = [\n",
        "    (SVD, param_grid_svd),\n",
        "    (SVDpp, param_grid_svdpp),\n",
        "    (NMF, param_grid_nmf)\n",
        "]"
      ],
      "metadata": {
        "id": "tZ4Os0pdr1Ga"
      },
      "execution_count": 20,
      "outputs": []
    },
    {
      "cell_type": "code",
      "source": [
        "for algorithm, param_grid in algorithms:\n",
        "    print(f\"Algorithm: {algorithm.__name__}\")\n",
        "\n",
        "\n",
        "    grid_search = GridSearchCV(algorithm, param_grid, measures=['RMSE'], cv=3)\n",
        "\n",
        "\n",
        "    grid_search.fit(data)\n",
        "\n",
        "\n",
        "    print(f\"Best Parameters: {grid_search.best_params['rmse']}\")\n",
        "    print(f\"Best RMSE: {grid_search.best_score['rmse']}\")\n",
        "    print(\"\\n\")"
      ],
      "metadata": {
        "colab": {
          "base_uri": "https://localhost:8080/"
        },
        "id": "MtfNHBtur5LV",
        "outputId": "25a0f687-446e-4bc7-df07-90aef3c5df97"
      },
      "execution_count": 21,
      "outputs": [
        {
          "output_type": "stream",
          "name": "stdout",
          "text": [
            "Algorithm: SVD\n",
            "Best Parameters: {'n_factors': 20, 'reg_all': 0.05}\n",
            "Best RMSE: 0.9425344924582942\n",
            "\n",
            "\n",
            "Algorithm: SVDpp\n",
            "Best Parameters: {'n_factors': 10, 'reg_all': 0.02}\n",
            "Best RMSE: 0.9250319559791955\n",
            "\n",
            "\n",
            "Algorithm: NMF\n",
            "Best Parameters: {'n_factors': 20, 'reg_pu': 0.05, 'reg_qi': 0.2}\n",
            "Best RMSE: 0.9565898054116375\n",
            "\n",
            "\n"
          ]
        }
      ]
    },
    {
      "cell_type": "code",
      "source": [
        "best_algorithm = grid_search.best_estimator['rmse']"
      ],
      "metadata": {
        "id": "ld-XQzk4tru7"
      },
      "execution_count": 22,
      "outputs": []
    },
    {
      "cell_type": "code",
      "source": [
        "trainset = data.build_full_trainset()\n",
        "best_algorithm.fit(trainset)"
      ],
      "metadata": {
        "colab": {
          "base_uri": "https://localhost:8080/"
        },
        "id": "JIqqgHLJw2e0",
        "outputId": "a84dc41e-6aa3-4ff5-f462-522f9b1f1df1"
      },
      "execution_count": 23,
      "outputs": [
        {
          "output_type": "execute_result",
          "data": {
            "text/plain": [
              "<surprise.prediction_algorithms.matrix_factorization.NMF at 0x7fb3f1cc27a0>"
            ]
          },
          "metadata": {},
          "execution_count": 23
        }
      ]
    }
  ]
}